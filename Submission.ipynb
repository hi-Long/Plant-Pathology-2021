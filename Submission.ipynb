{
 "cells": [
  {
   "cell_type": "code",
   "execution_count": 1,
   "id": "twelve-revelation",
   "metadata": {
    "_cell_guid": "b1076dfc-b9ad-4769-8c92-a6c4dae69d19",
    "_uuid": "8f2839f25d086af736a60e9eeb907d3b93b6e0e5",
    "execution": {
     "iopub.execute_input": "2021-05-18T01:24:48.990484Z",
     "iopub.status.busy": "2021-05-18T01:24:48.989573Z",
     "iopub.status.idle": "2021-05-18T01:24:48.994752Z",
     "shell.execute_reply": "2021-05-18T01:24:48.995419Z"
    },
    "papermill": {
     "duration": 0.038755,
     "end_time": "2021-05-18T01:24:48.995818",
     "exception": false,
     "start_time": "2021-05-18T01:24:48.957063",
     "status": "completed"
    },
    "tags": []
   },
   "outputs": [],
   "source": [
    "# This Python 3 environment comes with many helpful analytics libraries installed\n",
    "# It is defined by the kaggle/python Docker image: https://github.com/kaggle/docker-python\n",
    "# For example, here's several helpful packages to load\n",
    "\n",
    "import numpy as np # linear algebra\n",
    "import pandas as pd # data processing, CSV file I/O (e.g. pd.read_csv)\n",
    "\n",
    "# Input data files are available in the read-only \"../input/\" directory\n",
    "# For example, running this (by clicking run or pressing Shift+Enter) will list all files under the input directory\n",
    "\n",
    "# import os\n",
    "# for dirname, _, filenames in os.walk('/kaggle/input'):\n",
    "#     for filename in filenames:\n",
    "#         print(os.path.join(dirname, filename))\n",
    "\n",
    "# You can write up to 20GB to the current directory (/kaggle/working/) that gets preserved as output when you create a version using \"Save & Run All\" \n",
    "# You can also write temporary files to /kaggle/temp/, but they won't be saved outside of the current session"
   ]
  },
  {
   "cell_type": "code",
   "execution_count": 2,
   "id": "given-robertson",
   "metadata": {
    "execution": {
     "iopub.execute_input": "2021-05-18T01:24:49.040576Z",
     "iopub.status.busy": "2021-05-18T01:24:49.039705Z",
     "iopub.status.idle": "2021-05-18T01:24:51.186413Z",
     "shell.execute_reply": "2021-05-18T01:24:51.185956Z"
    },
    "papermill": {
     "duration": 2.171663,
     "end_time": "2021-05-18T01:24:51.186548",
     "exception": false,
     "start_time": "2021-05-18T01:24:49.014885",
     "status": "completed"
    },
    "tags": []
   },
   "outputs": [],
   "source": [
    "import glob\n",
    "import os.path as osp\n",
    "\n",
    "import pandas as pd\n",
    "import numpy as np\n",
    "import matplotlib.pyplot as plt\n",
    "import seaborn as sns\n",
    "\n",
    "import pickle\n",
    "\n",
    "import torch\n",
    "import torch.nn as nn\n",
    "from torch.optim import Adam, SGD\n",
    "from torch.utils.data import DataLoader, Dataset\n",
    "\n",
    "from torchvision import datasets, models\n",
    "from torchvision.utils import make_grid\n",
    "\n",
    "import os\n",
    "from PIL import Image\n",
    "from IPython.display import display\n",
    "import tqdm\n",
    "\n",
    "import warnings\n",
    "warnings.filterwarnings('ignore')"
   ]
  },
  {
   "cell_type": "code",
   "execution_count": 3,
   "id": "behavioral-hospital",
   "metadata": {
    "execution": {
     "iopub.execute_input": "2021-05-18T01:24:51.276182Z",
     "iopub.status.busy": "2021-05-18T01:24:51.275296Z",
     "iopub.status.idle": "2021-05-18T01:24:51.277999Z",
     "shell.execute_reply": "2021-05-18T01:24:51.277531Z"
    },
    "papermill": {
     "duration": 0.081866,
     "end_time": "2021-05-18T01:24:51.278132",
     "exception": false,
     "start_time": "2021-05-18T01:24:51.196266",
     "status": "completed"
    },
    "tags": []
   },
   "outputs": [],
   "source": [
    "device = torch.device('cuda' if torch.cuda.is_available() else 'cpu')\n",
    "num_classes = 12\n",
    "pretrained = False\n",
    "criterion = nn.CrossEntropyLoss()\n",
    "        \n",
    "class Config:\n",
    "    ep1= {\n",
    "        \"img_size\" : 224,\n",
    "        \"batch_size\" : 64,\n",
    "        \"epoch\": 20,\n",
    "        \"optimizer\": Adam\n",
    "    }\n",
    "    ep2 = {\n",
    "        \"img_size\" : 224,\n",
    "        \"batch_size\" : 64,\n",
    "        \"epoch\" : 20,\n",
    "        \"optimizer\": SGD\n",
    "    }    \n",
    "\n",
    "img_size, batch_size, epoch, optimizer = Config.ep2.values()\n"
   ]
  },
  {
   "cell_type": "code",
   "execution_count": 4,
   "id": "theoretical-appearance",
   "metadata": {
    "execution": {
     "iopub.execute_input": "2021-05-18T01:24:51.305410Z",
     "iopub.status.busy": "2021-05-18T01:24:51.302457Z",
     "iopub.status.idle": "2021-05-18T01:24:51.387006Z",
     "shell.execute_reply": "2021-05-18T01:24:51.388501Z"
    },
    "papermill": {
     "duration": 0.100777,
     "end_time": "2021-05-18T01:24:51.388770",
     "exception": false,
     "start_time": "2021-05-18T01:24:51.287993",
     "status": "completed"
    },
    "tags": []
   },
   "outputs": [
    {
     "data": {
      "text/plain": [
       "scab                               4826\n",
       "healthy                            4624\n",
       "frog_eye_leaf_spot                 3181\n",
       "rust                               1860\n",
       "complex                            1602\n",
       "powdery_mildew                     1184\n",
       "scab frog_eye_leaf_spot             686\n",
       "scab frog_eye_leaf_spot complex     200\n",
       "frog_eye_leaf_spot complex          165\n",
       "rust frog_eye_leaf_spot             120\n",
       "rust complex                         97\n",
       "powdery_mildew complex               87\n",
       "Name: labels, dtype: int64"
      ]
     },
     "execution_count": 4,
     "metadata": {},
     "output_type": "execute_result"
    }
   ],
   "source": [
    "df_train = pd.read_csv(\"/kaggle/input/plant-pathology-2021-fgvc8/train.csv\")\n",
    "df_sub = pd.read_csv(\"/kaggle/input/plant-pathology-2021-fgvc8/sample_submission.csv\")\n",
    "#The number of labels\n",
    "len(df_train.labels.unique())\n",
    "\n",
    "#The no.values per label\n",
    "df_train.labels.value_counts()"
   ]
  },
  {
   "cell_type": "code",
   "execution_count": 5,
   "id": "separated-average",
   "metadata": {
    "execution": {
     "iopub.execute_input": "2021-05-18T01:24:51.436710Z",
     "iopub.status.busy": "2021-05-18T01:24:51.434508Z",
     "iopub.status.idle": "2021-05-18T01:24:51.610467Z",
     "shell.execute_reply": "2021-05-18T01:24:51.611473Z"
    },
    "papermill": {
     "duration": 0.200073,
     "end_time": "2021-05-18T01:24:51.611789",
     "exception": false,
     "start_time": "2021-05-18T01:24:51.411716",
     "status": "completed"
    },
    "tags": []
   },
   "outputs": [
    {
     "data": {
      "text/html": [
       "<div>\n",
       "<style scoped>\n",
       "    .dataframe tbody tr th:only-of-type {\n",
       "        vertical-align: middle;\n",
       "    }\n",
       "\n",
       "    .dataframe tbody tr th {\n",
       "        vertical-align: top;\n",
       "    }\n",
       "\n",
       "    .dataframe thead th {\n",
       "        text-align: right;\n",
       "    }\n",
       "</style>\n",
       "<table border=\"1\" class=\"dataframe\">\n",
       "  <thead>\n",
       "    <tr style=\"text-align: right;\">\n",
       "      <th></th>\n",
       "      <th>labels</th>\n",
       "    </tr>\n",
       "    <tr>\n",
       "      <th>encoded_label</th>\n",
       "      <th></th>\n",
       "    </tr>\n",
       "  </thead>\n",
       "  <tbody>\n",
       "    <tr>\n",
       "      <th>0</th>\n",
       "      <td>complex</td>\n",
       "    </tr>\n",
       "    <tr>\n",
       "      <th>1</th>\n",
       "      <td>frog_eye_leaf_spot</td>\n",
       "    </tr>\n",
       "    <tr>\n",
       "      <th>2</th>\n",
       "      <td>frog_eye_leaf_spot complex</td>\n",
       "    </tr>\n",
       "    <tr>\n",
       "      <th>3</th>\n",
       "      <td>healthy</td>\n",
       "    </tr>\n",
       "    <tr>\n",
       "      <th>4</th>\n",
       "      <td>powdery_mildew</td>\n",
       "    </tr>\n",
       "    <tr>\n",
       "      <th>5</th>\n",
       "      <td>powdery_mildew complex</td>\n",
       "    </tr>\n",
       "    <tr>\n",
       "      <th>6</th>\n",
       "      <td>rust</td>\n",
       "    </tr>\n",
       "    <tr>\n",
       "      <th>7</th>\n",
       "      <td>rust complex</td>\n",
       "    </tr>\n",
       "    <tr>\n",
       "      <th>8</th>\n",
       "      <td>rust frog_eye_leaf_spot</td>\n",
       "    </tr>\n",
       "    <tr>\n",
       "      <th>9</th>\n",
       "      <td>scab</td>\n",
       "    </tr>\n",
       "    <tr>\n",
       "      <th>10</th>\n",
       "      <td>scab frog_eye_leaf_spot</td>\n",
       "    </tr>\n",
       "    <tr>\n",
       "      <th>11</th>\n",
       "      <td>scab frog_eye_leaf_spot complex</td>\n",
       "    </tr>\n",
       "  </tbody>\n",
       "</table>\n",
       "</div>"
      ],
      "text/plain": [
       "                                        labels\n",
       "encoded_label                                 \n",
       "0                                      complex\n",
       "1                           frog_eye_leaf_spot\n",
       "2                   frog_eye_leaf_spot complex\n",
       "3                                      healthy\n",
       "4                               powdery_mildew\n",
       "5                       powdery_mildew complex\n",
       "6                                         rust\n",
       "7                                 rust complex\n",
       "8                      rust frog_eye_leaf_spot\n",
       "9                                         scab\n",
       "10                     scab frog_eye_leaf_spot\n",
       "11             scab frog_eye_leaf_spot complex"
      ]
     },
     "metadata": {},
     "output_type": "display_data"
    }
   ],
   "source": [
    "from sklearn.preprocessing import LabelEncoder\n",
    "\n",
    "le = LabelEncoder()\n",
    "def encode_label(df):\n",
    "    df['encoded_label'] = le.fit_transform(df.labels.values)\n",
    "    return df\n",
    "\n",
    "encode_label(df_train)\n",
    "    \n",
    "df_labels_idx = df_train.loc[df_train.duplicated([\"labels\", \"encoded_label\"])==False]\\\n",
    "                [[\"encoded_label\", \"labels\"]].set_index(\"encoded_label\").sort_index()\n",
    "display(df_labels_idx)"
   ]
  },
  {
   "cell_type": "code",
   "execution_count": 6,
   "id": "cheap-organization",
   "metadata": {
    "execution": {
     "iopub.execute_input": "2021-05-18T01:24:51.661143Z",
     "iopub.status.busy": "2021-05-18T01:24:51.660374Z",
     "iopub.status.idle": "2021-05-18T01:24:51.720860Z",
     "shell.execute_reply": "2021-05-18T01:24:51.721894Z"
    },
    "papermill": {
     "duration": 0.090837,
     "end_time": "2021-05-18T01:24:51.722105",
     "exception": false,
     "start_time": "2021-05-18T01:24:51.631268",
     "status": "completed"
    },
    "tags": []
   },
   "outputs": [],
   "source": [
    "from sklearn.model_selection import train_test_split\n",
    "def make_datapath_list(phase='train', val_size=0.25):\n",
    "    if phase in [\"train\", \"val\"]:\n",
    "        phase_path = \"train_images\"\n",
    "    elif phase in [\"test\"]:\n",
    "        phase_path = \"test_images\"\n",
    "    else:\n",
    "        print(f\"{phase} not in path\")    \n",
    "        \n",
    "    if phase == 'train' or phase == 'val':\n",
    "        rootpath = \"/kaggle/input/resized-plant2021/img_sz_640/\"\n",
    "    else:\n",
    "        rootpath = \"/kaggle/input/plant-pathology-2021-fgvc8/test_images/\"\n",
    "    \n",
    "    target_path = osp.join(rootpath+\"/*.jpg\")\n",
    "    path_list = []\n",
    "    \n",
    "    for path in glob.glob(target_path):\n",
    "        path_list.append(path)\n",
    "        \n",
    "    if phase in [\"train\", \"val\"]:\n",
    "        train, val = train_test_split(path_list, test_size=val_size, random_state=0, shuffle=True)\n",
    "        if phase == \"train\":\n",
    "            path_list = train\n",
    "        else:\n",
    "            path_list = val\n",
    "    \n",
    "    return path_list\n",
    "        "
   ]
  },
  {
   "cell_type": "code",
   "execution_count": 7,
   "id": "engaged-pound",
   "metadata": {
    "execution": {
     "iopub.execute_input": "2021-05-18T01:24:51.764665Z",
     "iopub.status.busy": "2021-05-18T01:24:51.763921Z",
     "iopub.status.idle": "2021-05-18T01:24:52.234544Z",
     "shell.execute_reply": "2021-05-18T01:24:52.234969Z"
    },
    "papermill": {
     "duration": 0.493175,
     "end_time": "2021-05-18T01:24:52.235117",
     "exception": false,
     "start_time": "2021-05-18T01:24:51.741942",
     "status": "completed"
    },
    "tags": []
   },
   "outputs": [
    {
     "name": "stdout",
     "output_type": "stream",
     "text": [
      "The length of training set: 13974\n",
      "The length of valuation set: 4658\n",
      "The length of testing set: 3\n"
     ]
    }
   ],
   "source": [
    "train_list = make_datapath_list(phase='train')\n",
    "print(f'The length of training set: {len(train_list)}')\n",
    "val_list = make_datapath_list(phase='val')\n",
    "print(f'The length of valuation set: {len(val_list)}')\n",
    "test_list = make_datapath_list(phase='test')\n",
    "print(f'The length of testing set: {len(test_list)}')"
   ]
  },
  {
   "cell_type": "code",
   "execution_count": 8,
   "id": "planned-technology",
   "metadata": {
    "execution": {
     "iopub.execute_input": "2021-05-18T01:24:52.263279Z",
     "iopub.status.busy": "2021-05-18T01:24:52.262597Z",
     "iopub.status.idle": "2021-05-18T01:24:53.282389Z",
     "shell.execute_reply": "2021-05-18T01:24:53.281908Z"
    },
    "papermill": {
     "duration": 1.035813,
     "end_time": "2021-05-18T01:24:53.282507",
     "exception": false,
     "start_time": "2021-05-18T01:24:52.246694",
     "status": "completed"
    },
    "tags": []
   },
   "outputs": [],
   "source": [
    "import albumentations as A\n",
    "from albumentations import Compose\n",
    "from albumentations.pytorch import ToTensorV2\n",
    "import cv2"
   ]
  },
  {
   "cell_type": "code",
   "execution_count": 9,
   "id": "strategic-topic",
   "metadata": {
    "execution": {
     "iopub.execute_input": "2021-05-18T01:24:53.316785Z",
     "iopub.status.busy": "2021-05-18T01:24:53.316222Z",
     "iopub.status.idle": "2021-05-18T01:24:53.320105Z",
     "shell.execute_reply": "2021-05-18T01:24:53.319691Z"
    },
    "papermill": {
     "duration": 0.025835,
     "end_time": "2021-05-18T01:24:53.320224",
     "exception": false,
     "start_time": "2021-05-18T01:24:53.294389",
     "status": "completed"
    },
    "tags": []
   },
   "outputs": [],
   "source": [
    "transform = {\n",
    "    'train': Compose([\n",
    "        A.Rotate(\n",
    "            always_apply=False, \n",
    "            p=0.1, \n",
    "            limit=(-68, 178), \n",
    "            interpolation=1, \n",
    "            border_mode=0, \n",
    "            value=(0, 0, 0), \n",
    "            mask_value=None\n",
    "        ),\n",
    "        A.RandomShadow(\n",
    "            num_shadows_lower=1, \n",
    "            num_shadows_upper=1, \n",
    "            shadow_dimension=3, \n",
    "            shadow_roi=(0, 0.6, 1, 1), \n",
    "            p=0.4\n",
    "        ),\n",
    "        A.ShiftScaleRotate(\n",
    "            shift_limit=0.05, \n",
    "            scale_limit=0.05, \n",
    "            rotate_limit=15, \n",
    "            p=0.6\n",
    "        ),\n",
    "        A.RandomFog(\n",
    "            fog_coef_lower=0.2, \n",
    "            fog_coef_upper=0.2, \n",
    "            alpha_coef=0.2, \n",
    "            p=0.3\n",
    "        ),\n",
    "        A.RGBShift(\n",
    "            r_shift_limit=15, \n",
    "            g_shift_limit=15, \n",
    "            b_shift_limit=15, \n",
    "            p=0.3\n",
    "        ),\n",
    "        A.RandomBrightnessContrast(\n",
    "            p=0.3\n",
    "        ),\n",
    "        A.GaussNoise(\n",
    "            var_limit=(50, 70),  \n",
    "            always_apply=False, \n",
    "            p=0.3\n",
    "        ),\n",
    "        A.Resize(\n",
    "            height=img_size,\n",
    "            width=img_size,\n",
    "        ),\n",
    "        A.CoarseDropout(\n",
    "            max_holes=5, \n",
    "            max_height=5, \n",
    "            max_width=5, \n",
    "            min_holes=3, \n",
    "            min_height=5, \n",
    "            min_width=5,\n",
    "            always_apply=False, \n",
    "            p=0.2\n",
    "        ),\n",
    "        A.Normalize(\n",
    "            mean=(0.485, 0.456, 0.406), \n",
    "            std=(0.229, 0.224, 0.225)\n",
    "        ),\n",
    "        ToTensorV2()\n",
    "    ]),\n",
    "    'val': Compose([\n",
    "        A.Resize(img_size, img_size),\n",
    "        A.Normalize([0.485, 0.456, 0.406], [0.229, 0.224, 0.225]),            \n",
    "        ToTensorV2()\n",
    "    ]),\n",
    "    'test': Compose([\n",
    "        A.Resize(img_size, img_size),\n",
    "        A.Normalize([0.485, 0.456, 0.406], [0.229, 0.224, 0.225]),\n",
    "        ToTensorV2()\n",
    "    ])\n",
    "}"
   ]
  },
  {
   "cell_type": "code",
   "execution_count": 10,
   "id": "olympic-incentive",
   "metadata": {
    "execution": {
     "iopub.execute_input": "2021-05-18T01:24:53.352536Z",
     "iopub.status.busy": "2021-05-18T01:24:53.351246Z",
     "iopub.status.idle": "2021-05-18T01:24:53.353601Z",
     "shell.execute_reply": "2021-05-18T01:24:53.354026Z"
    },
    "papermill": {
     "duration": 0.022498,
     "end_time": "2021-05-18T01:24:53.354160",
     "exception": false,
     "start_time": "2021-05-18T01:24:53.331662",
     "status": "completed"
    },
    "tags": []
   },
   "outputs": [],
   "source": [
    "class PlantDataset(Dataset):\n",
    "    \"\"\"\n",
    "    Class to create a Dataset\n",
    "    \n",
    "    Attributes\n",
    "    ----------\n",
    "    df_train : DataFrame\n",
    "        DataFrame containing the image labels.\n",
    "    file_list : list\n",
    "        A list containing the paths to the images\n",
    "    transform : object\n",
    "        Instance of the preprocessing class (ImageTransform)\n",
    "    phase : 'train' or 'val' or 'test'\n",
    "        Specify whether to use train, validation, or test\n",
    "    \"\"\"\n",
    "    def __init__(self, df_train, file_list, transform=None, phase='train'):\n",
    "        self.df_train = df_train\n",
    "        self.df_labels_idx = df_labels_idx\n",
    "        self.file_list = file_list\n",
    "        self.transform = transform[phase]\n",
    "        self.phase = phase\n",
    "        \n",
    "    def __len__(self):\n",
    "        \"\"\"\n",
    "        Returns the number of images.\n",
    "        \"\"\"\n",
    "        return len(self.file_list)\n",
    "    def __getitem__(self, index):\n",
    "        \"\"\"\n",
    "        Get data in Tensor format and labels of preprocessed images.\n",
    "        \"\"\"\n",
    "        \n",
    "        # Load the index number image.\n",
    "        img_path = self.file_list[index]\n",
    "        img = Image.open(img_path)\n",
    "        \n",
    "        # Preprocessing images\n",
    "        img = cv2.imread(img_path)\n",
    "        img = cv2.cvtColor(img, cv2.COLOR_BGR2RGB)\n",
    "        img_transformed = self.transform(image=img)\n",
    "        \n",
    "        # image name\n",
    "        image_name = img_path[-20:]\n",
    "        \n",
    "        # Extract the labels\n",
    "        if self.phase in [\"train\", \"val\"]:\n",
    "            label = df_train.loc[df_train[\"image\"]==image_name][\"encoded_label\"].values[0]\n",
    "        elif self.phase in [\"test\"]:\n",
    "            label = -1\n",
    "        \n",
    "        return img_transformed, label, image_name"
   ]
  },
  {
   "cell_type": "code",
   "execution_count": 11,
   "id": "distant-astronomy",
   "metadata": {
    "execution": {
     "iopub.execute_input": "2021-05-18T01:24:53.382056Z",
     "iopub.status.busy": "2021-05-18T01:24:53.381431Z",
     "iopub.status.idle": "2021-05-18T01:24:53.731657Z",
     "shell.execute_reply": "2021-05-18T01:24:53.732089Z"
    },
    "papermill": {
     "duration": 0.366434,
     "end_time": "2021-05-18T01:24:53.732250",
     "exception": false,
     "start_time": "2021-05-18T01:24:53.365816",
     "status": "completed"
    },
    "tags": []
   },
   "outputs": [
    {
     "name": "stdout",
     "output_type": "stream",
     "text": [
      "\n",
      "【test dataset】\n",
      "img num : 3\n",
      "label : -1\n",
      "image name : ad8770db05586b59.jpg\n"
     ]
    }
   ],
   "source": [
    "# train_dataset = PlantDataset(df_train, train_list, transform=transform, phase='train')\n",
    "# val_dataset = PlantDataset(df_train, val_list, transform=transform, phase='val')\n",
    "test_dataset = PlantDataset(df_train, test_list, transform=transform, phase='test')\n",
    "\n",
    "index = 0\n",
    "\n",
    "# print(\"【train dataset】\")\n",
    "# print(f\"img num : {train_dataset.__len__()}\")\n",
    "# # print(f\"img : {train_dataset.__getitem__(index)[0].size()}\")\n",
    "# print(f\"label : {train_dataset.__getitem__(index)[1]}\")\n",
    "# print(f\"image name : {train_dataset.__getitem__(index)[2]}\")\n",
    "\n",
    "# print(\"\\n【validation dataset】\")\n",
    "# print(f\"img num : {val_dataset.__len__()}\")\n",
    "# # print(f\"img : {val_dataset.__getitem__(index)[0].size()}\")\n",
    "# print(f\"label : {val_dataset.__getitem__(index)[1]}\")\n",
    "# print(f\"image name : {val_dataset.__getitem__(index)[2]}\")\n",
    "\n",
    "print(\"\\n【test dataset】\")\n",
    "print(f\"img num : {test_dataset.__len__()}\")\n",
    "# print(f\"img : {test_dataset.__getitem__(index)[0].size()}\")\n",
    "print(f\"label : {test_dataset.__getitem__(index)[1]}\")\n",
    "print(f\"image name : {test_dataset.__getitem__(index)[2]}\")"
   ]
  },
  {
   "cell_type": "code",
   "execution_count": 12,
   "id": "vocal-pension",
   "metadata": {
    "execution": {
     "iopub.execute_input": "2021-05-18T01:24:53.762389Z",
     "iopub.status.busy": "2021-05-18T01:24:53.761149Z",
     "iopub.status.idle": "2021-05-18T01:24:53.763388Z",
     "shell.execute_reply": "2021-05-18T01:24:53.763793Z"
    },
    "papermill": {
     "duration": 0.018822,
     "end_time": "2021-05-18T01:24:53.763924",
     "exception": false,
     "start_time": "2021-05-18T01:24:53.745102",
     "status": "completed"
    },
    "tags": []
   },
   "outputs": [],
   "source": [
    "# train_dataloader = DataLoader(train_dataset, batch_size=batch_size, num_workers=2,shuffle=True)\n",
    "# val_dataloader = DataLoader(val_dataset, batch_size=batch_size, num_workers=2, shuffle=False)\n",
    "test_dataloader = DataLoader(test_dataset, batch_size=batch_size, shuffle=False)\n",
    "\n",
    "# to Dictionary\n",
    "dataloaders_dict = {\"test\": test_dataloader}"
   ]
  },
  {
   "cell_type": "code",
   "execution_count": 13,
   "id": "metallic-enterprise",
   "metadata": {
    "execution": {
     "iopub.execute_input": "2021-05-18T01:24:53.791607Z",
     "iopub.status.busy": "2021-05-18T01:24:53.791111Z",
     "iopub.status.idle": "2021-05-18T01:25:01.028723Z",
     "shell.execute_reply": "2021-05-18T01:25:01.028246Z"
    },
    "papermill": {
     "duration": 7.25285,
     "end_time": "2021-05-18T01:25:01.028889",
     "exception": false,
     "start_time": "2021-05-18T01:24:53.776039",
     "status": "completed"
    },
    "tags": []
   },
   "outputs": [],
   "source": [
    "Pkl_Filename = '../input/nh-m-1-chuy-n-c-ng-ngh/2 FCs, 0.0001 Lr, 30 Epochs.pkl'\n",
    "with open(Pkl_Filename, 'rb') as file:  \n",
    "    model = pickle.load(file)"
   ]
  },
  {
   "cell_type": "code",
   "execution_count": 14,
   "id": "reliable-value",
   "metadata": {
    "execution": {
     "iopub.execute_input": "2021-05-18T01:25:01.064147Z",
     "iopub.status.busy": "2021-05-18T01:25:01.063566Z",
     "iopub.status.idle": "2021-05-18T01:25:01.067503Z",
     "shell.execute_reply": "2021-05-18T01:25:01.067096Z"
    },
    "papermill": {
     "duration": 0.025819,
     "end_time": "2021-05-18T01:25:01.067622",
     "exception": false,
     "start_time": "2021-05-18T01:25:01.041803",
     "status": "completed"
    },
    "tags": []
   },
   "outputs": [],
   "source": [
    "class PlantPredictor():\n",
    "    \"\"\"\n",
    "    Class for predicting labels from output results\n",
    "    \n",
    "    Attributes\n",
    "    ----------\n",
    "    df_labels_idx: DataFrame\n",
    "        DataFrame that associates INDEX with a label name\n",
    "    \"\"\"\n",
    "    \n",
    "    def __init__(self, model, df_labels_idx, dataloaders_dict):\n",
    "        self.model = model\n",
    "        self.df_labels_idx = df_labels_idx\n",
    "        self.dataloaders_dict = dataloaders_dict\n",
    "        self.df_submit = pd.DataFrame()\n",
    "        \n",
    "    \n",
    "    def __predict_max(self, out):\n",
    "        \"\"\"\n",
    "        Get the label name with the highest probability.\n",
    "        \n",
    "        Parameters\n",
    "        ----------\n",
    "        predicted_label_name: str\n",
    "            Name of the label with the highest prediction probability\n",
    "        \"\"\"\n",
    "        maxid = np.argmax(out.detach().numpy(), axis=1)\n",
    "        df_predicted_label_name = self.df_labels_idx.iloc[maxid]\n",
    "        return df_predicted_label_name\n",
    "    \n",
    "    def inference(self):\n",
    "        device = torch.device('cuda' if torch.cuda.is_available() else 'cpu')\n",
    "\n",
    "        print(f\"Devices to be used : {device}\")\n",
    "        df_pred_list = []\n",
    "        for i, data in enumerate(self.dataloaders_dict['test']):\n",
    "            image_name = data[2]\n",
    "            self.model.to(device)\n",
    "            inputs = data[0]['image']\n",
    "            inputs = inputs.to(device)\n",
    "            out = self.model(inputs)\n",
    "            device = torch.device(\"cpu\")\n",
    "            out = out.to(device)\n",
    "            df_pred = self.__predict_max(out).reset_index(drop=True)\n",
    "            df_pred[\"image\"] = image_name\n",
    "            df_pred_list.append(df_pred)\n",
    "            \n",
    "        self.df_submit = pd.concat(df_pred_list, axis=0)\n",
    "        self.df_submit = self.df_submit[[\"image\", \"labels\"]].reset_index(drop=True)"
   ]
  },
  {
   "cell_type": "code",
   "execution_count": 15,
   "id": "approximate-buyer",
   "metadata": {
    "execution": {
     "iopub.execute_input": "2021-05-18T01:25:01.100251Z",
     "iopub.status.busy": "2021-05-18T01:25:01.099717Z",
     "iopub.status.idle": "2021-05-18T01:25:02.798123Z",
     "shell.execute_reply": "2021-05-18T01:25:02.797669Z"
    },
    "papermill": {
     "duration": 1.718195,
     "end_time": "2021-05-18T01:25:02.798248",
     "exception": false,
     "start_time": "2021-05-18T01:25:01.080053",
     "status": "completed"
    },
    "tags": []
   },
   "outputs": [
    {
     "name": "stdout",
     "output_type": "stream",
     "text": [
      "Devices to be used : cuda\n"
     ]
    },
    {
     "data": {
      "text/html": [
       "<div>\n",
       "<style scoped>\n",
       "    .dataframe tbody tr th:only-of-type {\n",
       "        vertical-align: middle;\n",
       "    }\n",
       "\n",
       "    .dataframe tbody tr th {\n",
       "        vertical-align: top;\n",
       "    }\n",
       "\n",
       "    .dataframe thead th {\n",
       "        text-align: right;\n",
       "    }\n",
       "</style>\n",
       "<table border=\"1\" class=\"dataframe\">\n",
       "  <thead>\n",
       "    <tr style=\"text-align: right;\">\n",
       "      <th></th>\n",
       "      <th>image</th>\n",
       "      <th>labels</th>\n",
       "    </tr>\n",
       "  </thead>\n",
       "  <tbody>\n",
       "    <tr>\n",
       "      <th>0</th>\n",
       "      <td>ad8770db05586b59.jpg</td>\n",
       "      <td>scab frog_eye_leaf_spot</td>\n",
       "    </tr>\n",
       "    <tr>\n",
       "      <th>1</th>\n",
       "      <td>c7b03e718489f3ca.jpg</td>\n",
       "      <td>frog_eye_leaf_spot</td>\n",
       "    </tr>\n",
       "    <tr>\n",
       "      <th>2</th>\n",
       "      <td>85f8cb619c66b863.jpg</td>\n",
       "      <td>complex</td>\n",
       "    </tr>\n",
       "  </tbody>\n",
       "</table>\n",
       "</div>"
      ],
      "text/plain": [
       "                  image                   labels\n",
       "0  ad8770db05586b59.jpg  scab frog_eye_leaf_spot\n",
       "1  c7b03e718489f3ca.jpg       frog_eye_leaf_spot\n",
       "2  85f8cb619c66b863.jpg                  complex"
      ]
     },
     "execution_count": 15,
     "metadata": {},
     "output_type": "execute_result"
    }
   ],
   "source": [
    "predictor = PlantPredictor(model, df_labels_idx, dataloaders_dict)\n",
    "predictor.inference()\n",
    "\n",
    "df_submit = predictor.df_submit.copy()\n",
    "\n",
    "df_submit.to_csv('submission.csv', index=False)\n",
    "df_submit"
   ]
  }
 ],
 "metadata": {
  "kernelspec": {
   "display_name": "Python 3",
   "language": "python",
   "name": "python3"
  },
  "language_info": {
   "codemirror_mode": {
    "name": "ipython",
    "version": 3
   },
   "file_extension": ".py",
   "mimetype": "text/x-python",
   "name": "python",
   "nbconvert_exporter": "python",
   "pygments_lexer": "ipython3",
   "version": "3.7.10"
  },
  "papermill": {
   "default_parameters": {},
   "duration": 22.699637,
   "end_time": "2021-05-18T01:25:04.945142",
   "environment_variables": {},
   "exception": null,
   "input_path": "__notebook__.ipynb",
   "output_path": "__notebook__.ipynb",
   "parameters": {},
   "start_time": "2021-05-18T01:24:42.245505",
   "version": "2.3.3"
  }
 },
 "nbformat": 4,
 "nbformat_minor": 5
}
